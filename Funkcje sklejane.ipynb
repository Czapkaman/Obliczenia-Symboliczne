{
 "cells": [
  {
   "cell_type": "code",
   "execution_count": 98,
   "metadata": {},
   "outputs": [
    {
     "name": "stdout",
     "output_type": "stream",
     "text": [
      "Ilość punktów:4\n",
      "x:1\n",
      "y:2\n",
      "x:2\n",
      "y:-1\n",
      "x:3\n",
      "y:3\n",
      "x:4\n",
      "y:-2\n",
      "\n",
      "\n",
      "Macierz trójdiagonalna: \n",
      " [[4.0, 1.0], [1.0, 4.0]]\n",
      "\n",
      "\n",
      "Macierz trójdiagonalna odwrócona: \n",
      " [[ 0.26666667 -0.06666667]\n",
      " [-0.06666667  0.26666667]]\n",
      "\n"
     ]
    },
    {
     "data": {
      "image/png": "[encoded data removed]",
      "text/plain": [
       "<Figure size 432x288 with 1 Axes>"
      ]
     },
     "metadata": {
      "needs_background": "light"
     },
     "output_type": "display_data"
    },
    {
     "name": "stdout",
     "output_type": "stream",
     "text": [
      "Wielomian 0 :  2.4666666666666663 (x - x 0 )^3 +  0.0 (x - x 0 )^2 +  -5.466666666666667 (x - x 0 ) +  2.0\n",
      "Wielomian 1 :  -5.333333333333333 (x - x 1 )^3 +  7.3999999999999995 (x - x 1 )^2 +  1.9333333333333336 (x - x 1 ) +  -1.0\n",
      "Wielomian 2 :  2.8666666666666667 (x - x 2 )^3 +  -8.6 (x - x 2 )^2 +  0.7333333333333334 (x - x 2 ) +  3.0\n"
     ]
    }
   ],
   "source": [
    "# 0. Import bibliotek\n",
    "import numpy as np\n",
    "from array import *\n",
    "import pylab\n",
    "import matplotlib.pyplot as plt\n",
    "from decimal import getcontext, Decimal\n",
    "\n",
    "# 1. Wprowadzenie punktów:\n",
    "n = int(input(\"Ilość punktów:\"))\n",
    "tabX = []\n",
    "tabY = []\n",
    "for i in range (n):\n",
    "    addX = float(input(\"x:\"))\n",
    "    tabX.append(addX)\n",
    "    addY = float(input(\"y:\"))\n",
    "    tabY.append(addY)\n",
    "    \n",
    "print(\"\")\n",
    "\n",
    "# 2. Macierz trójdiagonalna:\n",
    "\n",
    "# 2.1 Zdefiniowana\n",
    "T = [[0.0] * (n-2) for i in range(n-2)]\n",
    "\n",
    "\n",
    "for i in range (0,n-2):\n",
    "    arr = [0] * (n-2)\n",
    "\n",
    "        \n",
    "    # 2.2 Diagonala\n",
    "    arr[i] = 4.0\n",
    "    \n",
    "    # 2.3 Nad diagonalą\n",
    "    if (i > n-4):\n",
    "        pass\n",
    "    else:\n",
    "        arr[i+1] = 1.0\n",
    "    \n",
    "    # 2.4 Pod diagonalą\n",
    "    if (i < 1):\n",
    "        pass\n",
    "    else:\n",
    "        arr[i-1] = 1.0\n",
    "    \n",
    "    T[i] = arr\n",
    "    \n",
    "print(\"\\nMacierz trójdiagonalna: \\n\",T)\n",
    "\n",
    "# 3. Odwrócenie macierzy trójdiagonalnej:\n",
    "print(\"\\n\")\n",
    "T2 = np.linalg.inv(T)\n",
    "print(\"Macierz trójdiagonalna odwrócona: \\n\",T2)\n",
    "\n",
    "print(\"\")\n",
    "\n",
    "\n",
    "# 4. Stworzenie macierzy Y i wypełnienie wartościami\n",
    "Y = [0.0] * (n-2)\n",
    "\n",
    "for i in range (0, n-2):\n",
    "    h = tabX[i+1] - tabX[i]\n",
    "    Y[i] = int(tabY[i] - 2*tabY[i+1] + tabY[i+2]) * (6.0 / (h**2))\n",
    "\n",
    "\n",
    "# 5. Przygotowanie 2 macierzy \"Y2\" i lewostronne mnożenie macierzy T2 i Y:\n",
    "Y2 = [0.0] * (n-2)\n",
    "mult = 0.0\n",
    "for i in range (0, n-2):\n",
    "    mult = 0.0\n",
    "    for j in range (0, n-2):\n",
    "        mult += Y[j] * T2[i][j]    \n",
    "    Y2[i] = mult\n",
    "\n",
    "\n",
    "\n",
    "# 6. Stworzenie macierzy M:\n",
    "M = [0.0] * n\n",
    "for i in range (1,n-1):\n",
    "    M[i] = Y2[i-1]\n",
    "\n",
    "\n",
    "#7. Współczynniki A,B,C,D dla kolejnych wielomianów:\n",
    "A = [0.0] * (n-1)\n",
    "B = [0.0] * (n-1)\n",
    "C = [0.0] * (n-1)\n",
    "D = [0.0] * (n-1)\n",
    "for i in range (0, n-1):\n",
    "    A[i] = (M[i+1] - M[i]) / (6.0 * (tabX[i+1] - tabX[i]))\n",
    "    B[i] = M[i] / 2.0\n",
    "    C[i] = ((tabY[i+1] - tabY[i]) / (tabX[i+1] - tabX[i])) - (((M[i+1] + (2 * M[i])) / 6.0) * (tabX[i+1] - tabX[i]))\n",
    "    D[i] = tabY[i]\n",
    "    \n",
    "\n",
    "# 8. Zdefiniowanie przedziału na osi X dla wielomianu i:\n",
    "rr=[]\n",
    "for x in range(0,len(tabX)-1):\n",
    "    rr.append(np.arange(tabX[x], tabX[x+1], 0.01))\n",
    "\n",
    "# 9. Funkcja tworząca wielomian:\n",
    "def y(o,a):\n",
    "    i = a\n",
    "    return (A[i] * ((o - tabX[i])**3)) + (B[i] * ((o - tabX[i])**2)) + (C[i] * (o - tabX[i])) + D[i]\n",
    "\n",
    "# 10. Naniesienie wielomianów na wykres:\n",
    "for x in range(0,len(tabX)-1):\n",
    "    if(x%2==0):\n",
    "        plt.plot(rr[x], y(rr[x],x),'g-')\n",
    "    else:\n",
    "        plt.plot(rr[x], y(rr[x],x),'b-')\n",
    "\n",
    "# 11. Naniesienie węzłów interpolacyjnych na wykres: \n",
    "for x in range(0,len(tabX)):\n",
    "    plt.plot([tabX[x]],[tabY[x]],'ro')\n",
    "\n",
    "# 12. Wyswietlenie wykresu:\n",
    "plt.show()\n",
    "\n",
    "\n",
    "# 13. Wypisanie wielomianów:\n",
    "for x in range(0,len(tabX)-1):\n",
    "    print(\"Wielomian\",x,\": \",A[x],\"(x - x\",x,\")^3 + \",B[x],\"(x - x\",x,\")^2 + \",C[x],\"(x - x\",x,\") + \",D[x])  "
   ]
  },
  {
   "cell_type": "code",
   "execution_count": 100,
   "metadata": {},
   "outputs": [
    {
     "name": "stdout",
     "output_type": "stream",
     "text": [
      "<_io.TextIOWrapper name='punkty.txt' mode='w+' encoding='cp1250'>\n"
     ]
    }
   ],
   "source": [
    "import os\n",
    "f= open(\"punkty.txt\",\"w+\")\n",
    "print(f)"
   ]
  },
  {
   "cell_type": "code",
   "execution_count": null,
   "metadata": {},
   "outputs": [],
   "source": []
  }
 ],
 "metadata": {
  "kernelspec": {
   "display_name": "Python 3",
   "language": "python",
   "name": "python3"
  },
  "language_info": {
   "codemirror_mode": {
    "name": "ipython",
    "version": 3
   },
   "file_extension": ".py",
   "mimetype": "text/x-python",
   "name": "python",
   "nbconvert_exporter": "python",
   "pygments_lexer": "ipython3",
   "version": "3.6.6"
  }
 },
 "nbformat": 4,
 "nbformat_minor": 2
}
